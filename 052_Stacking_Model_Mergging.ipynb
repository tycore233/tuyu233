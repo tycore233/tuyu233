{
 "cells": [
  {
   "cell_type": "code",
   "execution_count": 1,
   "metadata": {
    "collapsed": true
   },
   "outputs": [],
   "source": [
    "import pandas as pd\n",
    "import numpy as np"
   ]
  },
  {
   "cell_type": "code",
   "execution_count": 2,
   "metadata": {
    "collapsed": true
   },
   "outputs": [],
   "source": [
    "fileName_val = open(r\"D:/Python/毕设实验部分/TUYU/data/proba_xgb_gbdt_lgb_rf_bp_val(1).csv\")\n",
    "fileName_test = open(r\"D:/Python/毕设实验部分/TUYU/data/proba_xgb_gbdt_lgb_rf_bp_test(1).csv\")\n",
    "val_data = pd.read_csv(fileName_val)\n",
    "test_data = pd.read_csv(fileName_test)"
   ]
  },
  {
   "cell_type": "code",
   "execution_count": 3,
   "metadata": {},
   "outputs": [
    {
     "data": {
      "text/html": [
       "<div>\n",
       "<style scoped>\n",
       "    .dataframe tbody tr th:only-of-type {\n",
       "        vertical-align: middle;\n",
       "    }\n",
       "\n",
       "    .dataframe tbody tr th {\n",
       "        vertical-align: top;\n",
       "    }\n",
       "\n",
       "    .dataframe thead th {\n",
       "        text-align: right;\n",
       "    }\n",
       "</style>\n",
       "<table border=\"1\" class=\"dataframe\">\n",
       "  <thead>\n",
       "    <tr style=\"text-align: right;\">\n",
       "      <th></th>\n",
       "      <th>航班编号</th>\n",
       "      <th>GBDT_val_proba</th>\n",
       "      <th>LGB_val_proba</th>\n",
       "      <th>RF_val_proba</th>\n",
       "      <th>标签</th>\n",
       "      <th>BP_val_proba</th>\n",
       "      <th>XGB_val_proba</th>\n",
       "    </tr>\n",
       "  </thead>\n",
       "  <tbody>\n",
       "    <tr>\n",
       "      <th>0</th>\n",
       "      <td>OQ2327</td>\n",
       "      <td>0.252954</td>\n",
       "      <td>0.027930</td>\n",
       "      <td>0.36</td>\n",
       "      <td>0</td>\n",
       "      <td>0.171119</td>\n",
       "      <td>0.533775</td>\n",
       "    </tr>\n",
       "    <tr>\n",
       "      <th>1</th>\n",
       "      <td>GJ8798</td>\n",
       "      <td>0.234198</td>\n",
       "      <td>0.023547</td>\n",
       "      <td>0.40</td>\n",
       "      <td>0</td>\n",
       "      <td>0.203638</td>\n",
       "      <td>0.005195</td>\n",
       "    </tr>\n",
       "    <tr>\n",
       "      <th>2</th>\n",
       "      <td>HU7238</td>\n",
       "      <td>0.240169</td>\n",
       "      <td>0.023547</td>\n",
       "      <td>0.38</td>\n",
       "      <td>0</td>\n",
       "      <td>0.337335</td>\n",
       "      <td>0.017888</td>\n",
       "    </tr>\n",
       "    <tr>\n",
       "      <th>3</th>\n",
       "      <td>9C8678</td>\n",
       "      <td>0.234352</td>\n",
       "      <td>0.026319</td>\n",
       "      <td>0.44</td>\n",
       "      <td>1</td>\n",
       "      <td>0.273638</td>\n",
       "      <td>0.828784</td>\n",
       "    </tr>\n",
       "    <tr>\n",
       "      <th>4</th>\n",
       "      <td>SC4871</td>\n",
       "      <td>0.235504</td>\n",
       "      <td>0.026076</td>\n",
       "      <td>0.40</td>\n",
       "      <td>0</td>\n",
       "      <td>0.072997</td>\n",
       "      <td>0.002716</td>\n",
       "    </tr>\n",
       "  </tbody>\n",
       "</table>\n",
       "</div>"
      ],
      "text/plain": [
       "     航班编号  GBDT_val_proba  LGB_val_proba  RF_val_proba  标签  BP_val_proba  \\\n",
       "0  OQ2327        0.252954       0.027930          0.36   0      0.171119   \n",
       "1  GJ8798        0.234198       0.023547          0.40   0      0.203638   \n",
       "2  HU7238        0.240169       0.023547          0.38   0      0.337335   \n",
       "3  9C8678        0.234352       0.026319          0.44   1      0.273638   \n",
       "4  SC4871        0.235504       0.026076          0.40   0      0.072997   \n",
       "\n",
       "   XGB_val_proba  \n",
       "0       0.533775  \n",
       "1       0.005195  \n",
       "2       0.017888  \n",
       "3       0.828784  \n",
       "4       0.002716  "
      ]
     },
     "execution_count": 3,
     "metadata": {},
     "output_type": "execute_result"
    }
   ],
   "source": [
    "val_data.head()"
   ]
  },
  {
   "cell_type": "code",
   "execution_count": 4,
   "metadata": {},
   "outputs": [
    {
     "data": {
      "text/html": [
       "<div>\n",
       "<style scoped>\n",
       "    .dataframe tbody tr th:only-of-type {\n",
       "        vertical-align: middle;\n",
       "    }\n",
       "\n",
       "    .dataframe tbody tr th {\n",
       "        vertical-align: top;\n",
       "    }\n",
       "\n",
       "    .dataframe thead th {\n",
       "        text-align: right;\n",
       "    }\n",
       "</style>\n",
       "<table border=\"1\" class=\"dataframe\">\n",
       "  <thead>\n",
       "    <tr style=\"text-align: right;\">\n",
       "      <th></th>\n",
       "      <th>航班编号</th>\n",
       "      <th>GBDT_test_proba</th>\n",
       "      <th>LGB_test_proba</th>\n",
       "      <th>RF_test_proba</th>\n",
       "      <th>标签</th>\n",
       "      <th>BP_test_proba</th>\n",
       "      <th>XGB_test_proba</th>\n",
       "    </tr>\n",
       "  </thead>\n",
       "  <tbody>\n",
       "    <tr>\n",
       "      <th>0</th>\n",
       "      <td>MF8139</td>\n",
       "      <td>0.243121</td>\n",
       "      <td>0.031557</td>\n",
       "      <td>0.44</td>\n",
       "      <td>0</td>\n",
       "      <td>0.000763</td>\n",
       "      <td>0.001955</td>\n",
       "    </tr>\n",
       "    <tr>\n",
       "      <th>1</th>\n",
       "      <td>MU5614</td>\n",
       "      <td>0.249257</td>\n",
       "      <td>0.023475</td>\n",
       "      <td>0.40</td>\n",
       "      <td>1</td>\n",
       "      <td>0.064104</td>\n",
       "      <td>0.937886</td>\n",
       "    </tr>\n",
       "    <tr>\n",
       "      <th>2</th>\n",
       "      <td>CA4555</td>\n",
       "      <td>0.306550</td>\n",
       "      <td>0.031480</td>\n",
       "      <td>0.30</td>\n",
       "      <td>1</td>\n",
       "      <td>0.568992</td>\n",
       "      <td>0.746597</td>\n",
       "    </tr>\n",
       "    <tr>\n",
       "      <th>3</th>\n",
       "      <td>GS7815</td>\n",
       "      <td>0.243504</td>\n",
       "      <td>0.034459</td>\n",
       "      <td>0.42</td>\n",
       "      <td>0</td>\n",
       "      <td>0.011747</td>\n",
       "      <td>0.004612</td>\n",
       "    </tr>\n",
       "    <tr>\n",
       "      <th>4</th>\n",
       "      <td>MU2829</td>\n",
       "      <td>0.244671</td>\n",
       "      <td>0.031557</td>\n",
       "      <td>0.44</td>\n",
       "      <td>1</td>\n",
       "      <td>0.000358</td>\n",
       "      <td>0.011364</td>\n",
       "    </tr>\n",
       "  </tbody>\n",
       "</table>\n",
       "</div>"
      ],
      "text/plain": [
       "     航班编号  GBDT_test_proba  LGB_test_proba  RF_test_proba  标签  BP_test_proba  \\\n",
       "0  MF8139         0.243121        0.031557           0.44   0       0.000763   \n",
       "1  MU5614         0.249257        0.023475           0.40   1       0.064104   \n",
       "2  CA4555         0.306550        0.031480           0.30   1       0.568992   \n",
       "3  GS7815         0.243504        0.034459           0.42   0       0.011747   \n",
       "4  MU2829         0.244671        0.031557           0.44   1       0.000358   \n",
       "\n",
       "   XGB_test_proba  \n",
       "0        0.001955  \n",
       "1        0.937886  \n",
       "2        0.746597  \n",
       "3        0.004612  \n",
       "4        0.011364  "
      ]
     },
     "execution_count": 4,
     "metadata": {},
     "output_type": "execute_result"
    }
   ],
   "source": [
    "test_data.head()"
   ]
  },
  {
   "cell_type": "code",
   "execution_count": 6,
   "metadata": {
    "collapsed": true
   },
   "outputs": [],
   "source": [
    "x_val = val_data[[\"XGB_val_proba\", \"GBDT_val_proba\", \"LGB_val_proba\", \"RF_val_proba\", \"BP_val_proba\"]].values\n",
    "y_val = val_data[\"标签\"].values\n",
    "x_test = test_data[[\"XGB_test_proba\", \"GBDT_test_proba\", \"LGB_test_proba\", \"RF_test_proba\", \"BP_test_proba\"]].values\n",
    "y_test = test_data[\"标签\"].values"
   ]
  },
  {
   "cell_type": "code",
   "execution_count": 7,
   "metadata": {},
   "outputs": [
    {
     "data": {
      "text/plain": [
       "LogisticRegression()"
      ]
     },
     "execution_count": 7,
     "metadata": {},
     "output_type": "execute_result"
    }
   ],
   "source": [
    "from sklearn.linear_model import LogisticRegression\n",
    "from sklearn.preprocessing import StandardScaler\n",
    "sc = StandardScaler()\n",
    "X_train = sc.fit_transform(x_val)\n",
    "X_test = sc.fit_transform(x_test)\n",
    "\n",
    "model_log = LogisticRegression()\n",
    "model_log.fit(X_train, y_val)"
   ]
  },
  {
   "cell_type": "code",
   "execution_count": 8,
   "metadata": {
    "collapsed": true
   },
   "outputs": [],
   "source": [
    "y_pred = model_log.predict(X_test)"
   ]
  },
  {
   "cell_type": "code",
   "execution_count": 9,
   "metadata": {},
   "outputs": [
    {
     "name": "stdout",
     "output_type": "stream",
     "text": [
      "准确率: 91.24%\n",
      "KS的值为 ('ks', 0.7637129050082645)\n",
      "AUC的值为: 0.9234916782405537\n",
      "              precision    recall  f1-score   support\n",
      "\n",
      "           0       0.98      0.90      0.94    231863\n",
      "           1       0.79      0.95      0.86     91240\n",
      "\n",
      "    accuracy                           0.91    323103\n",
      "   macro avg       0.88      0.92      0.90    323103\n",
      "weighted avg       0.92      0.91      0.91    323103\n",
      "\n"
     ]
    }
   ],
   "source": [
    "from sklearn.metrics import accuracy_score\n",
    "#KS定义函数\n",
    "from sklearn import metrics\n",
    "from sklearn.metrics import roc_auc_score\n",
    "def ks(y_predicted, y_true):\n",
    "    label=y_true\n",
    "    #label = y_true.get_label()\n",
    "    fpr,tpr,thres = metrics.roc_curve(label,y_predicted,pos_label=1)\n",
    "    return 'ks',abs(fpr - tpr).max()\n",
    "#测试一下精度\n",
    "accuracy =accuracy_score(y_test,y_pred)\n",
    "print(\"准确率: %.2f%%\" % (accuracy*100.0))\n",
    "#测试一下KS值，不建议写到论文中，高的有些离谱\n",
    "print(\"KS的值为\", ks(y_pred, y_test))\n",
    "#测试一下AUC的值\n",
    "print(\"AUC的值为:\", roc_auc_score(y_pred, y_test))\n",
    "#混淆矩阵等具体模型结果\n",
    "from sklearn.metrics import classification_report \n",
    "print(classification_report(y_pred, y_test))"
   ]
  },
  {
   "cell_type": "code",
   "execution_count": 18,
   "metadata": {
    "collapsed": true
   },
   "outputs": [],
   "source": [
    "#修改数据集后的模型"
   ]
  },
  {
   "cell_type": "code",
   "execution_count": 10,
   "metadata": {
    "scrolled": true
   },
   "outputs": [
    {
     "data": {
      "text/html": [
       "<div>\n",
       "<style scoped>\n",
       "    .dataframe tbody tr th:only-of-type {\n",
       "        vertical-align: middle;\n",
       "    }\n",
       "\n",
       "    .dataframe tbody tr th {\n",
       "        vertical-align: top;\n",
       "    }\n",
       "\n",
       "    .dataframe thead th {\n",
       "        text-align: right;\n",
       "    }\n",
       "</style>\n",
       "<table border=\"1\" class=\"dataframe\">\n",
       "  <thead>\n",
       "    <tr style=\"text-align: right;\">\n",
       "      <th></th>\n",
       "      <th>航班编号</th>\n",
       "      <th>GBDT_test_proba</th>\n",
       "      <th>LGB_test_proba</th>\n",
       "      <th>RF_test_proba</th>\n",
       "      <th>标签</th>\n",
       "      <th>BP_test_proba</th>\n",
       "      <th>XGB_test_proba</th>\n",
       "    </tr>\n",
       "  </thead>\n",
       "  <tbody>\n",
       "    <tr>\n",
       "      <th>0</th>\n",
       "      <td>MF8139</td>\n",
       "      <td>0.243121</td>\n",
       "      <td>0.031557</td>\n",
       "      <td>0.44</td>\n",
       "      <td>0</td>\n",
       "      <td>0.000763</td>\n",
       "      <td>0.001955</td>\n",
       "    </tr>\n",
       "    <tr>\n",
       "      <th>1</th>\n",
       "      <td>MU5614</td>\n",
       "      <td>0.249257</td>\n",
       "      <td>0.023475</td>\n",
       "      <td>0.40</td>\n",
       "      <td>1</td>\n",
       "      <td>0.064104</td>\n",
       "      <td>0.937886</td>\n",
       "    </tr>\n",
       "    <tr>\n",
       "      <th>2</th>\n",
       "      <td>CA4555</td>\n",
       "      <td>0.306550</td>\n",
       "      <td>0.031480</td>\n",
       "      <td>0.30</td>\n",
       "      <td>1</td>\n",
       "      <td>0.568992</td>\n",
       "      <td>0.746597</td>\n",
       "    </tr>\n",
       "    <tr>\n",
       "      <th>3</th>\n",
       "      <td>GS7815</td>\n",
       "      <td>0.243504</td>\n",
       "      <td>0.034459</td>\n",
       "      <td>0.42</td>\n",
       "      <td>0</td>\n",
       "      <td>0.011747</td>\n",
       "      <td>0.004612</td>\n",
       "    </tr>\n",
       "    <tr>\n",
       "      <th>4</th>\n",
       "      <td>SC4848</td>\n",
       "      <td>0.237558</td>\n",
       "      <td>0.029285</td>\n",
       "      <td>0.46</td>\n",
       "      <td>0</td>\n",
       "      <td>0.001336</td>\n",
       "      <td>0.006122</td>\n",
       "    </tr>\n",
       "    <tr>\n",
       "      <th>...</th>\n",
       "      <td>...</td>\n",
       "      <td>...</td>\n",
       "      <td>...</td>\n",
       "      <td>...</td>\n",
       "      <td>...</td>\n",
       "      <td>...</td>\n",
       "      <td>...</td>\n",
       "    </tr>\n",
       "    <tr>\n",
       "      <th>323098</th>\n",
       "      <td>GX8828</td>\n",
       "      <td>0.278524</td>\n",
       "      <td>0.035193</td>\n",
       "      <td>0.38</td>\n",
       "      <td>1</td>\n",
       "      <td>0.012675</td>\n",
       "      <td>0.034989</td>\n",
       "    </tr>\n",
       "    <tr>\n",
       "      <th>323099</th>\n",
       "      <td>MU2172</td>\n",
       "      <td>0.243499</td>\n",
       "      <td>0.026393</td>\n",
       "      <td>0.38</td>\n",
       "      <td>0</td>\n",
       "      <td>0.001380</td>\n",
       "      <td>0.780316</td>\n",
       "    </tr>\n",
       "    <tr>\n",
       "      <th>323100</th>\n",
       "      <td>NS3262</td>\n",
       "      <td>0.283704</td>\n",
       "      <td>0.032777</td>\n",
       "      <td>0.38</td>\n",
       "      <td>1</td>\n",
       "      <td>0.023205</td>\n",
       "      <td>0.128265</td>\n",
       "    </tr>\n",
       "    <tr>\n",
       "      <th>323101</th>\n",
       "      <td>G5265B</td>\n",
       "      <td>0.244664</td>\n",
       "      <td>0.013486</td>\n",
       "      <td>0.40</td>\n",
       "      <td>1</td>\n",
       "      <td>0.003910</td>\n",
       "      <td>0.117519</td>\n",
       "    </tr>\n",
       "    <tr>\n",
       "      <th>323102</th>\n",
       "      <td>CZ6170</td>\n",
       "      <td>0.242705</td>\n",
       "      <td>0.025950</td>\n",
       "      <td>0.40</td>\n",
       "      <td>1</td>\n",
       "      <td>0.001492</td>\n",
       "      <td>0.190804</td>\n",
       "    </tr>\n",
       "  </tbody>\n",
       "</table>\n",
       "<p>323103 rows × 7 columns</p>\n",
       "</div>"
      ],
      "text/plain": [
       "          航班编号  GBDT_test_proba  LGB_test_proba  RF_test_proba  标签  \\\n",
       "0       MF8139         0.243121        0.031557           0.44   0   \n",
       "1       MU5614         0.249257        0.023475           0.40   1   \n",
       "2       CA4555         0.306550        0.031480           0.30   1   \n",
       "3       GS7815         0.243504        0.034459           0.42   0   \n",
       "4       SC4848         0.237558        0.029285           0.46   0   \n",
       "...        ...              ...             ...            ...  ..   \n",
       "323098  GX8828         0.278524        0.035193           0.38   1   \n",
       "323099  MU2172         0.243499        0.026393           0.38   0   \n",
       "323100  NS3262         0.283704        0.032777           0.38   1   \n",
       "323101  G5265B         0.244664        0.013486           0.40   1   \n",
       "323102  CZ6170         0.242705        0.025950           0.40   1   \n",
       "\n",
       "        BP_test_proba  XGB_test_proba  \n",
       "0            0.000763        0.001955  \n",
       "1            0.064104        0.937886  \n",
       "2            0.568992        0.746597  \n",
       "3            0.011747        0.004612  \n",
       "4            0.001336        0.006122  \n",
       "...               ...             ...  \n",
       "323098       0.012675        0.034989  \n",
       "323099       0.001380        0.780316  \n",
       "323100       0.023205        0.128265  \n",
       "323101       0.003910        0.117519  \n",
       "323102       0.001492        0.190804  \n",
       "\n",
       "[323103 rows x 7 columns]"
      ]
     },
     "execution_count": 10,
     "metadata": {},
     "output_type": "execute_result"
    }
   ],
   "source": [
    "fileName_proba_test = open(r\"D:/Python/毕设实验部分/TUYU/data/probatest_data_new.csv\")\n",
    "proba_test = pd.read_csv(fileName_proba_test)\n",
    "proba_test"
   ]
  },
  {
   "cell_type": "code",
   "execution_count": 11,
   "metadata": {
    "collapsed": true
   },
   "outputs": [],
   "source": [
    "x_test_1 = proba_test[[\"XGB_test_proba\", \"GBDT_test_proba\", \"LGB_test_proba\", \"RF_test_proba\", \"BP_test_proba\"]].values\n",
    "y_test_1 = proba_test[\"标签\"].values"
   ]
  },
  {
   "cell_type": "code",
   "execution_count": 12,
   "metadata": {
    "collapsed": true
   },
   "outputs": [],
   "source": [
    "X_test = sc.fit_transform(x_test_1)\n",
    "y_pred = model_log.predict(X_test)"
   ]
  },
  {
   "cell_type": "code",
   "execution_count": 13,
   "metadata": {},
   "outputs": [
    {
     "name": "stdout",
     "output_type": "stream",
     "text": [
      "准确率: 95.55%\n",
      "KS的值为 ('ks', 0.8731924159754875)\n",
      "AUC的值为: 0.9600749493360633\n",
      "              precision    recall  f1-score   support\n",
      "\n",
      "           0       0.99      0.95      0.97    230099\n",
      "           1       0.89      0.97      0.93     93004\n",
      "\n",
      "    accuracy                           0.96    323103\n",
      "   macro avg       0.94      0.96      0.95    323103\n",
      "weighted avg       0.96      0.96      0.96    323103\n",
      "\n"
     ]
    }
   ],
   "source": [
    "from sklearn.metrics import accuracy_score\n",
    "#KS定义函数\n",
    "from sklearn import metrics\n",
    "from sklearn.metrics import roc_auc_score\n",
    "def ks(y_predicted, y_true):\n",
    "    label=y_true\n",
    "    #label = y_true.get_label()\n",
    "    fpr,tpr,thres = metrics.roc_curve(label,y_predicted,pos_label=1)\n",
    "    return 'ks',abs(fpr - tpr).max()\n",
    "#测试一下精度\n",
    "accuracy =accuracy_score(y_test_1,y_pred)\n",
    "print(\"准确率: %.2f%%\" % (accuracy*100.0))\n",
    "#测试一下KS值，不建议写到论文中，高的有些离谱\n",
    "print(\"KS的值为\", ks(y_pred, y_test_1))\n",
    "#测试一下AUC的值\n",
    "print(\"AUC的值为:\", roc_auc_score(y_pred, y_test_1))\n",
    "#混淆矩阵等具体模型结果\n",
    "from sklearn.metrics import classification_report \n",
    "print(classification_report(y_pred, y_test_1))"
   ]
  },
  {
   "cell_type": "code",
   "execution_count": null,
   "metadata": {
    "collapsed": true
   },
   "outputs": [],
   "source": []
  },
  {
   "cell_type": "code",
   "execution_count": null,
   "metadata": {
    "collapsed": true
   },
   "outputs": [],
   "source": []
  },
  {
   "cell_type": "code",
   "execution_count": null,
   "metadata": {
    "collapsed": true
   },
   "outputs": [],
   "source": []
  },
  {
   "cell_type": "code",
   "execution_count": null,
   "metadata": {
    "collapsed": true
   },
   "outputs": [],
   "source": []
  },
  {
   "cell_type": "code",
   "execution_count": null,
   "metadata": {
    "collapsed": true
   },
   "outputs": [],
   "source": []
  }
 ],
 "metadata": {
  "kernelspec": {
   "display_name": "Python 3",
   "language": "python",
   "name": "python3"
  },
  "language_info": {
   "codemirror_mode": {
    "name": "ipython",
    "version": 3
   },
   "file_extension": ".py",
   "mimetype": "text/x-python",
   "name": "python",
   "nbconvert_exporter": "python",
   "pygments_lexer": "ipython3",
   "version": "3.6.5"
  }
 },
 "nbformat": 4,
 "nbformat_minor": 2
}
