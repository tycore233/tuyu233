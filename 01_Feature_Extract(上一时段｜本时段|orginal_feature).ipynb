{
 "cells": [
  {
   "cell_type": "markdown",
   "metadata": {},
   "source": [
    "# 上一时段/本时段特征提取 -->  DataTotal.csv\n",
    "1.上一时段/本时段 计划/实际 进港/离港 航班数\n",
    "2.上一时段/本时段 计划/实际 进港/离港 延误航班数\n",
    "3.上一时段/本时段 计划/实际 进港/离港 延误率\n",
    "4.上一时段/本时段 计划/实际 进港/离港 延误时长\n",
    "5.上一时段/本时段 计划/实际 进港/离港 平均延误时长\n"
   ]
  },
  {
   "cell_type": "code",
   "execution_count": 1,
   "metadata": {},
   "outputs": [
    {
     "data": {
      "text/html": [
       "<div>\n",
       "<style>\n",
       "    .dataframe thead tr:only-child th {\n",
       "        text-align: right;\n",
       "    }\n",
       "\n",
       "    .dataframe thead th {\n",
       "        text-align: left;\n",
       "    }\n",
       "\n",
       "    .dataframe tbody tr th {\n",
       "        vertical-align: top;\n",
       "    }\n",
       "</style>\n",
       "<table border=\"1\" class=\"dataframe\">\n",
       "  <thead>\n",
       "    <tr style=\"text-align: right;\">\n",
       "      <th></th>\n",
       "      <th>出发机场</th>\n",
       "      <th>到达机场</th>\n",
       "      <th>航班编号</th>\n",
       "      <th>计划起飞时间</th>\n",
       "      <th>计划到达时间</th>\n",
       "      <th>实际起飞时间</th>\n",
       "      <th>实际到达时间</th>\n",
       "      <th>飞机编号</th>\n",
       "      <th>航班是否取消</th>\n",
       "      <th>是否延误3小时以上</th>\n",
       "    </tr>\n",
       "  </thead>\n",
       "  <tbody>\n",
       "    <tr>\n",
       "      <th>0</th>\n",
       "      <td>SWA</td>\n",
       "      <td>TAO</td>\n",
       "      <td>CZ3855</td>\n",
       "      <td>1451606400</td>\n",
       "      <td>1451619600</td>\n",
       "      <td>NaN</td>\n",
       "      <td>NaN</td>\n",
       "      <td>0.0</td>\n",
       "      <td>1</td>\n",
       "      <td>1</td>\n",
       "    </tr>\n",
       "    <tr>\n",
       "      <th>1</th>\n",
       "      <td>NNG</td>\n",
       "      <td>CAN</td>\n",
       "      <td>CZ3295</td>\n",
       "      <td>1451606400</td>\n",
       "      <td>1451610600</td>\n",
       "      <td>NaN</td>\n",
       "      <td>NaN</td>\n",
       "      <td>0.0</td>\n",
       "      <td>1</td>\n",
       "      <td>1</td>\n",
       "    </tr>\n",
       "    <tr>\n",
       "      <th>2</th>\n",
       "      <td>SWA</td>\n",
       "      <td>NGB</td>\n",
       "      <td>CZ3855</td>\n",
       "      <td>1451606400</td>\n",
       "      <td>1451610900</td>\n",
       "      <td>NaN</td>\n",
       "      <td>NaN</td>\n",
       "      <td>0.0</td>\n",
       "      <td>1</td>\n",
       "      <td>1</td>\n",
       "    </tr>\n",
       "    <tr>\n",
       "      <th>3</th>\n",
       "      <td>CSX</td>\n",
       "      <td>TNA</td>\n",
       "      <td>CZ3983</td>\n",
       "      <td>1451606400</td>\n",
       "      <td>1451613600</td>\n",
       "      <td>NaN</td>\n",
       "      <td>NaN</td>\n",
       "      <td>0.0</td>\n",
       "      <td>1</td>\n",
       "      <td>1</td>\n",
       "    </tr>\n",
       "    <tr>\n",
       "      <th>4</th>\n",
       "      <td>XIY</td>\n",
       "      <td>SZX</td>\n",
       "      <td>HU7871</td>\n",
       "      <td>1451606700</td>\n",
       "      <td>1451616600</td>\n",
       "      <td>NaN</td>\n",
       "      <td>NaN</td>\n",
       "      <td>0.0</td>\n",
       "      <td>1</td>\n",
       "      <td>1</td>\n",
       "    </tr>\n",
       "  </tbody>\n",
       "</table>\n",
       "</div>"
      ],
      "text/plain": [
       "  出发机场 到达机场    航班编号      计划起飞时间      计划到达时间  实际起飞时间  实际到达时间  飞机编号  航班是否取消  \\\n",
       "0  SWA  TAO  CZ3855  1451606400  1451619600     NaN     NaN   0.0       1   \n",
       "1  NNG  CAN  CZ3295  1451606400  1451610600     NaN     NaN   0.0       1   \n",
       "2  SWA  NGB  CZ3855  1451606400  1451610900     NaN     NaN   0.0       1   \n",
       "3  CSX  TNA  CZ3983  1451606400  1451613600     NaN     NaN   0.0       1   \n",
       "4  XIY  SZX  HU7871  1451606700  1451616600     NaN     NaN   0.0       1   \n",
       "\n",
       "   是否延误3小时以上  \n",
       "0          1  \n",
       "1          1  \n",
       "2          1  \n",
       "3          1  \n",
       "4          1  "
      ]
     },
     "execution_count": 1,
     "metadata": {},
     "output_type": "execute_result"
    }
   ],
   "source": [
    "import pandas as pd\n",
    "fileName = open(r'D:/Desktop/tuyu.csv')\n",
    "flight_data = pd.read_csv(fileName)\n",
    "flight_data.head()\n"
   ]
  },
  {
   "cell_type": "code",
   "execution_count": 2,
   "metadata": {
    "collapsed": true
   },
   "outputs": [],
   "source": [
    "#将计划时间转换成为日期格式\n",
    "flight_data['计划起飞时间1'] = pd.to_datetime(flight_data['计划起飞时间'], unit = 's', utc = True)\n",
    "flight_data['计划到达时间1'] = pd.to_datetime(flight_data['计划到达时间'], unit = 's', utc = True)\n"
   ]
  },
  {
   "cell_type": "code",
   "execution_count": 3,
   "metadata": {},
   "outputs": [
    {
     "data": {
      "text/html": [
       "<div>\n",
       "<style>\n",
       "    .dataframe thead tr:only-child th {\n",
       "        text-align: right;\n",
       "    }\n",
       "\n",
       "    .dataframe thead th {\n",
       "        text-align: left;\n",
       "    }\n",
       "\n",
       "    .dataframe tbody tr th {\n",
       "        vertical-align: top;\n",
       "    }\n",
       "</style>\n",
       "<table border=\"1\" class=\"dataframe\">\n",
       "  <thead>\n",
       "    <tr style=\"text-align: right;\">\n",
       "      <th></th>\n",
       "      <th>出发机场</th>\n",
       "      <th>到达机场</th>\n",
       "      <th>航班编号</th>\n",
       "      <th>计划起飞时间</th>\n",
       "      <th>计划到达时间</th>\n",
       "      <th>实际起飞时间</th>\n",
       "      <th>实际到达时间</th>\n",
       "      <th>飞机编号</th>\n",
       "      <th>航班是否取消</th>\n",
       "      <th>是否延误3小时以上</th>\n",
       "      <th>计划起飞时间1</th>\n",
       "      <th>计划到达时间1</th>\n",
       "      <th>计划起飞日期</th>\n",
       "      <th>计划起飞时刻</th>\n",
       "      <th>航班月份</th>\n",
       "      <th>计划到达日期</th>\n",
       "      <th>计划到达时刻</th>\n",
       "    </tr>\n",
       "  </thead>\n",
       "  <tbody>\n",
       "    <tr>\n",
       "      <th>0</th>\n",
       "      <td>SWA</td>\n",
       "      <td>TAO</td>\n",
       "      <td>CZ3855</td>\n",
       "      <td>1451606400</td>\n",
       "      <td>1451619600</td>\n",
       "      <td>NaN</td>\n",
       "      <td>NaN</td>\n",
       "      <td>0.0</td>\n",
       "      <td>1</td>\n",
       "      <td>1</td>\n",
       "      <td>2016-01-01 00:00:00</td>\n",
       "      <td>2016-01-01 03:40:00</td>\n",
       "      <td>2016-01-01</td>\n",
       "      <td>00</td>\n",
       "      <td>1</td>\n",
       "      <td>2016-01-01</td>\n",
       "      <td>03</td>\n",
       "    </tr>\n",
       "    <tr>\n",
       "      <th>1</th>\n",
       "      <td>NNG</td>\n",
       "      <td>CAN</td>\n",
       "      <td>CZ3295</td>\n",
       "      <td>1451606400</td>\n",
       "      <td>1451610600</td>\n",
       "      <td>NaN</td>\n",
       "      <td>NaN</td>\n",
       "      <td>0.0</td>\n",
       "      <td>1</td>\n",
       "      <td>1</td>\n",
       "      <td>2016-01-01 00:00:00</td>\n",
       "      <td>2016-01-01 01:10:00</td>\n",
       "      <td>2016-01-01</td>\n",
       "      <td>00</td>\n",
       "      <td>1</td>\n",
       "      <td>2016-01-01</td>\n",
       "      <td>01</td>\n",
       "    </tr>\n",
       "    <tr>\n",
       "      <th>2</th>\n",
       "      <td>SWA</td>\n",
       "      <td>NGB</td>\n",
       "      <td>CZ3855</td>\n",
       "      <td>1451606400</td>\n",
       "      <td>1451610900</td>\n",
       "      <td>NaN</td>\n",
       "      <td>NaN</td>\n",
       "      <td>0.0</td>\n",
       "      <td>1</td>\n",
       "      <td>1</td>\n",
       "      <td>2016-01-01 00:00:00</td>\n",
       "      <td>2016-01-01 01:15:00</td>\n",
       "      <td>2016-01-01</td>\n",
       "      <td>00</td>\n",
       "      <td>1</td>\n",
       "      <td>2016-01-01</td>\n",
       "      <td>01</td>\n",
       "    </tr>\n",
       "    <tr>\n",
       "      <th>3</th>\n",
       "      <td>CSX</td>\n",
       "      <td>TNA</td>\n",
       "      <td>CZ3983</td>\n",
       "      <td>1451606400</td>\n",
       "      <td>1451613600</td>\n",
       "      <td>NaN</td>\n",
       "      <td>NaN</td>\n",
       "      <td>0.0</td>\n",
       "      <td>1</td>\n",
       "      <td>1</td>\n",
       "      <td>2016-01-01 00:00:00</td>\n",
       "      <td>2016-01-01 02:00:00</td>\n",
       "      <td>2016-01-01</td>\n",
       "      <td>00</td>\n",
       "      <td>1</td>\n",
       "      <td>2016-01-01</td>\n",
       "      <td>02</td>\n",
       "    </tr>\n",
       "    <tr>\n",
       "      <th>4</th>\n",
       "      <td>XIY</td>\n",
       "      <td>SZX</td>\n",
       "      <td>HU7871</td>\n",
       "      <td>1451606700</td>\n",
       "      <td>1451616600</td>\n",
       "      <td>NaN</td>\n",
       "      <td>NaN</td>\n",
       "      <td>0.0</td>\n",
       "      <td>1</td>\n",
       "      <td>1</td>\n",
       "      <td>2016-01-01 00:05:00</td>\n",
       "      <td>2016-01-01 02:50:00</td>\n",
       "      <td>2016-01-01</td>\n",
       "      <td>00</td>\n",
       "      <td>1</td>\n",
       "      <td>2016-01-01</td>\n",
       "      <td>02</td>\n",
       "    </tr>\n",
       "  </tbody>\n",
       "</table>\n",
       "</div>"
      ],
      "text/plain": [
       "  出发机场 到达机场    航班编号      计划起飞时间      计划到达时间  实际起飞时间  实际到达时间  飞机编号  航班是否取消  \\\n",
       "0  SWA  TAO  CZ3855  1451606400  1451619600     NaN     NaN   0.0       1   \n",
       "1  NNG  CAN  CZ3295  1451606400  1451610600     NaN     NaN   0.0       1   \n",
       "2  SWA  NGB  CZ3855  1451606400  1451610900     NaN     NaN   0.0       1   \n",
       "3  CSX  TNA  CZ3983  1451606400  1451613600     NaN     NaN   0.0       1   \n",
       "4  XIY  SZX  HU7871  1451606700  1451616600     NaN     NaN   0.0       1   \n",
       "\n",
       "   是否延误3小时以上             计划起飞时间1             计划到达时间1      计划起飞日期 计划起飞时刻  航班月份  \\\n",
       "0          1 2016-01-01 00:00:00 2016-01-01 03:40:00  2016-01-01     00     1   \n",
       "1          1 2016-01-01 00:00:00 2016-01-01 01:10:00  2016-01-01     00     1   \n",
       "2          1 2016-01-01 00:00:00 2016-01-01 01:15:00  2016-01-01     00     1   \n",
       "3          1 2016-01-01 00:00:00 2016-01-01 02:00:00  2016-01-01     00     1   \n",
       "4          1 2016-01-01 00:05:00 2016-01-01 02:50:00  2016-01-01     00     1   \n",
       "\n",
       "       计划到达日期 计划到达时刻  \n",
       "0  2016-01-01     03  \n",
       "1  2016-01-01     01  \n",
       "2  2016-01-01     01  \n",
       "3  2016-01-01     02  \n",
       "4  2016-01-01     02  "
      ]
     },
     "execution_count": 3,
     "metadata": {},
     "output_type": "execute_result"
    }
   ],
   "source": [
    "#细分时间段\n",
    "flight_data['计划起飞日期'] = flight_data['计划起飞时间1'].apply(lambda x:x.strftime('%Y-%m-%d') if not(pd.isnull(x)) else None)\n",
    "flight_data['计划起飞时刻'] = flight_data['计划起飞时间1'].apply(lambda x:x.strftime('%H') if not(pd.isnull(x)) else None)\n",
    "flight_data['航班月份'] = flight_data['计划起飞时间1'].apply(lambda x:int(x.strftime('%m')) if not(pd.isnull(x)) else None)\n",
    "\n",
    "flight_data['计划到达日期'] = flight_data['计划到达时间1'].apply(lambda x:x.strftime('%Y-%m-%d') if not(pd.isnull(x)) else None)\n",
    "flight_data['计划到达时刻'] = flight_data['计划到达时间1'].apply(lambda x:x.strftime('%H') if not(pd.isnull(x)) else None)\n",
    "flight_data.head()"
   ]
  },
  {
   "cell_type": "code",
   "execution_count": 4,
   "metadata": {},
   "outputs": [
    {
     "data": {
      "text/html": [
       "<div>\n",
       "<style>\n",
       "    .dataframe thead tr:only-child th {\n",
       "        text-align: right;\n",
       "    }\n",
       "\n",
       "    .dataframe thead th {\n",
       "        text-align: left;\n",
       "    }\n",
       "\n",
       "    .dataframe tbody tr th {\n",
       "        vertical-align: top;\n",
       "    }\n",
       "</style>\n",
       "<table border=\"1\" class=\"dataframe\">\n",
       "  <thead>\n",
       "    <tr style=\"text-align: right;\">\n",
       "      <th></th>\n",
       "      <th>出发机场</th>\n",
       "      <th>到达机场</th>\n",
       "      <th>航班编号</th>\n",
       "      <th>计划起飞时间</th>\n",
       "      <th>计划到达时间</th>\n",
       "      <th>实际起飞时间</th>\n",
       "      <th>实际到达时间</th>\n",
       "      <th>飞机编号</th>\n",
       "      <th>航班是否取消</th>\n",
       "      <th>是否延误3小时以上</th>\n",
       "      <th>...</th>\n",
       "      <th>航班月份</th>\n",
       "      <th>计划到达日期</th>\n",
       "      <th>计划到达时刻</th>\n",
       "      <th>实际起飞时间1</th>\n",
       "      <th>实际到达时间1</th>\n",
       "      <th>实际起飞日期</th>\n",
       "      <th>实际起飞时刻</th>\n",
       "      <th>实际月份</th>\n",
       "      <th>实际到达日期</th>\n",
       "      <th>实际到达时刻</th>\n",
       "    </tr>\n",
       "  </thead>\n",
       "  <tbody>\n",
       "    <tr>\n",
       "      <th>0</th>\n",
       "      <td>SWA</td>\n",
       "      <td>TAO</td>\n",
       "      <td>CZ3855</td>\n",
       "      <td>1451606400</td>\n",
       "      <td>1451619600</td>\n",
       "      <td>NaN</td>\n",
       "      <td>NaN</td>\n",
       "      <td>0.0</td>\n",
       "      <td>1</td>\n",
       "      <td>1</td>\n",
       "      <td>...</td>\n",
       "      <td>1</td>\n",
       "      <td>2016-01-01</td>\n",
       "      <td>03</td>\n",
       "      <td>NaT</td>\n",
       "      <td>NaT</td>\n",
       "      <td>None</td>\n",
       "      <td>None</td>\n",
       "      <td>NaN</td>\n",
       "      <td>None</td>\n",
       "      <td>None</td>\n",
       "    </tr>\n",
       "    <tr>\n",
       "      <th>1</th>\n",
       "      <td>NNG</td>\n",
       "      <td>CAN</td>\n",
       "      <td>CZ3295</td>\n",
       "      <td>1451606400</td>\n",
       "      <td>1451610600</td>\n",
       "      <td>NaN</td>\n",
       "      <td>NaN</td>\n",
       "      <td>0.0</td>\n",
       "      <td>1</td>\n",
       "      <td>1</td>\n",
       "      <td>...</td>\n",
       "      <td>1</td>\n",
       "      <td>2016-01-01</td>\n",
       "      <td>01</td>\n",
       "      <td>NaT</td>\n",
       "      <td>NaT</td>\n",
       "      <td>None</td>\n",
       "      <td>None</td>\n",
       "      <td>NaN</td>\n",
       "      <td>None</td>\n",
       "      <td>None</td>\n",
       "    </tr>\n",
       "    <tr>\n",
       "      <th>2</th>\n",
       "      <td>SWA</td>\n",
       "      <td>NGB</td>\n",
       "      <td>CZ3855</td>\n",
       "      <td>1451606400</td>\n",
       "      <td>1451610900</td>\n",
       "      <td>NaN</td>\n",
       "      <td>NaN</td>\n",
       "      <td>0.0</td>\n",
       "      <td>1</td>\n",
       "      <td>1</td>\n",
       "      <td>...</td>\n",
       "      <td>1</td>\n",
       "      <td>2016-01-01</td>\n",
       "      <td>01</td>\n",
       "      <td>NaT</td>\n",
       "      <td>NaT</td>\n",
       "      <td>None</td>\n",
       "      <td>None</td>\n",
       "      <td>NaN</td>\n",
       "      <td>None</td>\n",
       "      <td>None</td>\n",
       "    </tr>\n",
       "    <tr>\n",
       "      <th>3</th>\n",
       "      <td>CSX</td>\n",
       "      <td>TNA</td>\n",
       "      <td>CZ3983</td>\n",
       "      <td>1451606400</td>\n",
       "      <td>1451613600</td>\n",
       "      <td>NaN</td>\n",
       "      <td>NaN</td>\n",
       "      <td>0.0</td>\n",
       "      <td>1</td>\n",
       "      <td>1</td>\n",
       "      <td>...</td>\n",
       "      <td>1</td>\n",
       "      <td>2016-01-01</td>\n",
       "      <td>02</td>\n",
       "      <td>NaT</td>\n",
       "      <td>NaT</td>\n",
       "      <td>None</td>\n",
       "      <td>None</td>\n",
       "      <td>NaN</td>\n",
       "      <td>None</td>\n",
       "      <td>None</td>\n",
       "    </tr>\n",
       "    <tr>\n",
       "      <th>4</th>\n",
       "      <td>XIY</td>\n",
       "      <td>SZX</td>\n",
       "      <td>HU7871</td>\n",
       "      <td>1451606700</td>\n",
       "      <td>1451616600</td>\n",
       "      <td>NaN</td>\n",
       "      <td>NaN</td>\n",
       "      <td>0.0</td>\n",
       "      <td>1</td>\n",
       "      <td>1</td>\n",
       "      <td>...</td>\n",
       "      <td>1</td>\n",
       "      <td>2016-01-01</td>\n",
       "      <td>02</td>\n",
       "      <td>NaT</td>\n",
       "      <td>NaT</td>\n",
       "      <td>None</td>\n",
       "      <td>None</td>\n",
       "      <td>NaN</td>\n",
       "      <td>None</td>\n",
       "      <td>None</td>\n",
       "    </tr>\n",
       "  </tbody>\n",
       "</table>\n",
       "<p>5 rows × 24 columns</p>\n",
       "</div>"
      ],
      "text/plain": [
       "  出发机场 到达机场    航班编号      计划起飞时间      计划到达时间  实际起飞时间  实际到达时间  飞机编号  航班是否取消  \\\n",
       "0  SWA  TAO  CZ3855  1451606400  1451619600     NaN     NaN   0.0       1   \n",
       "1  NNG  CAN  CZ3295  1451606400  1451610600     NaN     NaN   0.0       1   \n",
       "2  SWA  NGB  CZ3855  1451606400  1451610900     NaN     NaN   0.0       1   \n",
       "3  CSX  TNA  CZ3983  1451606400  1451613600     NaN     NaN   0.0       1   \n",
       "4  XIY  SZX  HU7871  1451606700  1451616600     NaN     NaN   0.0       1   \n",
       "\n",
       "   是否延误3小时以上  ...   航班月份      计划到达日期 计划到达时刻 实际起飞时间1  实际到达时间1 实际起飞日期 实际起飞时刻  \\\n",
       "0          1  ...      1  2016-01-01     03     NaT      NaT   None   None   \n",
       "1          1  ...      1  2016-01-01     01     NaT      NaT   None   None   \n",
       "2          1  ...      1  2016-01-01     01     NaT      NaT   None   None   \n",
       "3          1  ...      1  2016-01-01     02     NaT      NaT   None   None   \n",
       "4          1  ...      1  2016-01-01     02     NaT      NaT   None   None   \n",
       "\n",
       "  实际月份 实际到达日期 实际到达时刻  \n",
       "0  NaN   None   None  \n",
       "1  NaN   None   None  \n",
       "2  NaN   None   None  \n",
       "3  NaN   None   None  \n",
       "4  NaN   None   None  \n",
       "\n",
       "[5 rows x 24 columns]"
      ]
     },
     "execution_count": 4,
     "metadata": {},
     "output_type": "execute_result"
    }
   ],
   "source": [
    "#将计划时间转换成为日期格式\n",
    "flight_data['实际起飞时间1'] = pd.to_datetime(flight_data['实际起飞时间'], unit = 's', utc = True)\n",
    "flight_data['实际到达时间1'] = pd.to_datetime(flight_data['实际到达时间'], unit = 's', utc = True)\n",
    "#细分时间段\n",
    "flight_data['实际起飞日期'] = flight_data['实际起飞时间1'].apply(lambda x:x.strftime('%Y-%m-%d') if not(pd.isnull(x)) else None)\n",
    "flight_data['实际起飞时刻'] = flight_data['实际起飞时间1'].apply(lambda x:x.strftime('%H') if not(pd.isnull(x)) else None)\n",
    "flight_data['实际月份'] = flight_data['实际起飞时间1'].apply(lambda x:int(x.strftime('%m')) if not(pd.isnull(x)) else None)\n",
    "\n",
    "flight_data['实际到达日期'] = flight_data['实际到达时间1'].apply(lambda x:x.strftime('%Y-%m-%d') if not(pd.isnull(x)) else None)\n",
    "flight_data['实际到达时刻'] = flight_data['实际到达时间1'].apply(lambda x:x.strftime('%H') if not(pd.isnull(x)) else None)\n",
    "flight_data.head()"
   ]
  },
  {
   "cell_type": "code",
   "execution_count": 5,
   "metadata": {
    "collapsed": true
   },
   "outputs": [],
   "source": [
    "flight_data['计划起飞时刻'] = flight_data['计划起飞时刻'].astype(int)\n",
    "flight_data['计划到达时刻'] = flight_data['计划到达时刻'].astype(int)"
   ]
  },
  {
   "cell_type": "code",
   "execution_count": 6,
   "metadata": {
    "collapsed": true
   },
   "outputs": [],
   "source": [
    "flight_data['计划起飞前2小时时刻'] = flight_data['计划起飞时刻'].apply(lambda x : 22 if x == 0 else (23 if x == 1 else x-2))\n",
    "flight_data['计划起飞前3小时时刻'] = flight_data['计划起飞前2小时时刻'].apply(lambda x : 23 if x == 0 else x -1)\n",
    "flight_data['计划到达前2小时时刻'] = flight_data['计划到达时刻'].apply(lambda x : 22 if x == 0 else (23 if x == 1 else x-2))\n",
    "flight_data['计划到达前3小时时刻'] = flight_data['计划到达前2小时时刻'].apply(lambda x : 23 if x == 0 else x -1)"
   ]
  },
  {
   "cell_type": "code",
   "execution_count": 7,
   "metadata": {
    "collapsed": true
   },
   "outputs": [],
   "source": [
    "上一时段计划离港航班数 = flight_data.groupby(['出发机场','计划起飞日期','计划起飞时刻'], as_index=False)[\"是否延误3小时以上\"].agg({\"上一时段计划离港航班数\":\"count\"})\n",
    "flight_data = pd.merge(flight_data,上一时段计划离港航班数,how='left',left_on=['出发机场','计划起飞日期','计划起飞前3小时时刻'],right_on=['出发机场','计划起飞日期','计划起飞时刻'])\n"
   ]
  },
  {
   "cell_type": "code",
   "execution_count": 8,
   "metadata": {},
   "outputs": [
    {
     "data": {
      "text/plain": [
       "Index(['出发机场', '到达机场', '航班编号', '计划起飞时间', '计划到达时间', '实际起飞时间', '实际到达时间', '飞机编号',\n",
       "       '航班是否取消', '是否延误3小时以上', '计划起飞时间1', '计划到达时间1', '计划起飞日期', '计划起飞时刻_x',\n",
       "       '航班月份', '计划到达日期', '计划到达时刻', '实际起飞时间1', '实际到达时间1', '实际起飞日期', '实际起飞时刻',\n",
       "       '实际月份', '实际到达日期', '实际到达时刻', '计划起飞前2小时时刻', '计划起飞前3小时时刻', '计划到达前2小时时刻',\n",
       "       '计划到达前3小时时刻', '计划起飞时刻_y', '上一时段计划离港航班数'],\n",
       "      dtype='object')"
      ]
     },
     "execution_count": 8,
     "metadata": {},
     "output_type": "execute_result"
    }
   ],
   "source": [
    "flight_data.columns"
   ]
  },
  {
   "cell_type": "code",
   "execution_count": 9,
   "metadata": {
    "collapsed": true
   },
   "outputs": [],
   "source": [
    "flight_data = flight_data.drop(['计划起飞时刻_y'],axis=1)\n",
    "flight_data = flight_data.rename(columns={'计划起飞时刻_x':'计划起飞时刻'})"
   ]
  },
  {
   "cell_type": "code",
   "execution_count": 10,
   "metadata": {
    "collapsed": true
   },
   "outputs": [],
   "source": [
    "本时段计划离港航班数 = flight_data.groupby(['出发机场','计划起飞日期','计划起飞时刻'], as_index=False)[\"是否延误3小时以上\"].agg({\"本时段计划离港航班数\":\"count\"})\n",
    "flight_data = pd.merge(flight_data,本时段计划离港航班数,how='left',left_on=['出发机场','计划起飞日期','计划起飞前2小时时刻'],right_on=['出发机场','计划起飞日期','计划起飞时刻'])\n"
   ]
  },
  {
   "cell_type": "code",
   "execution_count": 11,
   "metadata": {},
   "outputs": [
    {
     "data": {
      "text/plain": [
       "Index(['出发机场', '到达机场', '航班编号', '计划起飞时间', '计划到达时间', '实际起飞时间', '实际到达时间', '飞机编号',\n",
       "       '航班是否取消', '是否延误3小时以上', '计划起飞时间1', '计划到达时间1', '计划起飞日期', '计划起飞时刻_x',\n",
       "       '航班月份', '计划到达日期', '计划到达时刻', '实际起飞时间1', '实际到达时间1', '实际起飞日期', '实际起飞时刻',\n",
       "       '实际月份', '实际到达日期', '实际到达时刻', '计划起飞前2小时时刻', '计划起飞前3小时时刻', '计划到达前2小时时刻',\n",
       "       '计划到达前3小时时刻', '上一时段计划离港航班数', '计划起飞时刻_y', '本时段计划离港航班数'],\n",
       "      dtype='object')"
      ]
     },
     "execution_count": 11,
     "metadata": {},
     "output_type": "execute_result"
    }
   ],
   "source": [
    "flight_data.columns"
   ]
  },
  {
   "cell_type": "code",
   "execution_count": 12,
   "metadata": {},
   "outputs": [
    {
     "data": {
      "text/plain": [
       "Index(['出发机场', '到达机场', '航班编号', '计划起飞时间', '计划到达时间', '实际起飞时间', '实际到达时间', '飞机编号',\n",
       "       '航班是否取消', '是否延误3小时以上', '计划起飞时间1', '计划到达时间1', '计划起飞日期', '计划起飞时刻_x',\n",
       "       '航班月份', '计划到达日期', '计划到达时刻', '实际起飞时间1', '实际到达时间1', '实际起飞日期', '实际起飞时刻',\n",
       "       '实际月份', '实际到达日期', '实际到达时刻', '计划起飞前2小时时刻', '计划起飞前3小时时刻', '计划到达前2小时时刻',\n",
       "       '计划到达前3小时时刻', '上一时段计划离港航班数', '计划起飞时刻_y', '本时段计划离港航班数'],\n",
       "      dtype='object')"
      ]
     },
     "execution_count": 12,
     "metadata": {},
     "output_type": "execute_result"
    }
   ],
   "source": [
    "flight_data.columns"
   ]
  },
  {
   "cell_type": "code",
   "execution_count": 13,
   "metadata": {
    "collapsed": true
   },
   "outputs": [],
   "source": [
    "flight_data = flight_data.drop(['计划起飞时刻_y'],axis=1)\n",
    "flight_data = flight_data.rename(columns={'计划起飞时刻_x':'计划起飞时刻'})"
   ]
  },
  {
   "cell_type": "code",
   "execution_count": 14,
   "metadata": {
    "collapsed": true
   },
   "outputs": [],
   "source": [
    "上一时段计划进港航班数 = flight_data.groupby(['到达机场','计划起飞日期','计划到达时刻'], as_index=False)[\"是否延误3小时以上\"].agg({\"上一时段计划进港航班数\":\"count\"})\n",
    "flight_data = pd.merge(flight_data,上一时段计划进港航班数,how='left',left_on=['到达机场','计划起飞日期','计划到达前3小时时刻'],right_on=['到达机场','计划起飞日期','计划到达时刻'])\n"
   ]
  },
  {
   "cell_type": "code",
   "execution_count": 15,
   "metadata": {},
   "outputs": [
    {
     "data": {
      "text/plain": [
       "Index(['出发机场', '到达机场', '航班编号', '计划起飞时间', '计划到达时间', '实际起飞时间', '实际到达时间', '飞机编号',\n",
       "       '航班是否取消', '是否延误3小时以上', '计划起飞时间1', '计划到达时间1', '计划起飞日期', '计划起飞时刻', '航班月份',\n",
       "       '计划到达日期', '计划到达时刻_x', '实际起飞时间1', '实际到达时间1', '实际起飞日期', '实际起飞时刻', '实际月份',\n",
       "       '实际到达日期', '实际到达时刻', '计划起飞前2小时时刻', '计划起飞前3小时时刻', '计划到达前2小时时刻',\n",
       "       '计划到达前3小时时刻', '上一时段计划离港航班数', '本时段计划离港航班数', '计划到达时刻_y', '上一时段计划进港航班数'],\n",
       "      dtype='object')"
      ]
     },
     "execution_count": 15,
     "metadata": {},
     "output_type": "execute_result"
    }
   ],
   "source": [
    "flight_data.columns"
   ]
  },
  {
   "cell_type": "code",
   "execution_count": 16,
   "metadata": {
    "collapsed": true
   },
   "outputs": [],
   "source": [
    "flight_data = flight_data.drop(['计划到达时刻_y'],axis=1)\n",
    "flight_data = flight_data.rename(columns={'计划到达时刻_x':'计划到达时刻'})"
   ]
  },
  {
   "cell_type": "code",
   "execution_count": 17,
   "metadata": {
    "collapsed": true
   },
   "outputs": [],
   "source": [
    "本时段计划进港航班数 = flight_data.groupby(['到达机场','计划起飞日期','计划到达时刻'], as_index=False)[\"是否延误3小时以上\"].agg({\"本时段计划进港航班数\":\"count\"})\n",
    "flight_data = pd.merge(flight_data,本时段计划进港航班数,how='left',left_on=['到达机场','计划起飞日期','计划到达前2小时时刻'],right_on=['到达机场','计划起飞日期','计划到达时刻'])\n",
    "\n"
   ]
  },
  {
   "cell_type": "code",
   "execution_count": 18,
   "metadata": {
    "collapsed": true
   },
   "outputs": [],
   "source": [
    "flight_data = flight_data.drop(['计划到达时刻_y'],axis=1)\n",
    "flight_data = flight_data.rename(columns={'计划到达时刻_x':'计划到达时刻'})"
   ]
  },
  {
   "cell_type": "code",
   "execution_count": 19,
   "metadata": {
    "collapsed": true
   },
   "outputs": [],
   "source": [
    "flight_data['实际起飞时刻'] = flight_data['实际起飞时刻'].fillna(-9999)\n",
    "flight_data['实际到达时刻'] = flight_data['实际到达时刻'].fillna(-9999)\n",
    "flight_data['实际起飞时刻'] = flight_data['实际起飞时刻'].astype(int)\n",
    "flight_data['实际到达时刻'] = flight_data['实际到达时刻'].astype(int)"
   ]
  },
  {
   "cell_type": "code",
   "execution_count": 20,
   "metadata": {
    "collapsed": true
   },
   "outputs": [],
   "source": [
    "上一时段实际离港延误航班数 = flight_data.groupby(['出发机场','计划起飞日期','实际起飞时刻'], as_index=False)[\"是否延误3小时以上\"].agg({\"上一时段实际离港延误航班数\":\"sum\"})\n",
    "flight_data = pd.merge(flight_data,上一时段实际离港延误航班数,how='left',left_on=['出发机场','计划起飞日期','计划起飞前3小时时刻'],right_on=['出发机场','计划起飞日期','实际起飞时刻'])\n"
   ]
  },
  {
   "cell_type": "code",
   "execution_count": 21,
   "metadata": {
    "collapsed": true
   },
   "outputs": [],
   "source": [
    "flight_data = flight_data.drop(['实际起飞时刻_y'],axis=1)\n",
    "flight_data = flight_data.rename(columns={'实际起飞时刻_x':'实际起飞时刻'})"
   ]
  },
  {
   "cell_type": "code",
   "execution_count": 22,
   "metadata": {
    "collapsed": true
   },
   "outputs": [],
   "source": [
    "本时段实际离港延误航班数 = flight_data.groupby(['出发机场','计划起飞日期','实际起飞时刻'], as_index=False)[\"是否延误3小时以上\"].agg({\"本时段实际离港延误航班数\":\"sum\"})\n",
    "flight_data = pd.merge(flight_data,本时段实际离港延误航班数,how='left',left_on=['出发机场','计划起飞日期','计划起飞前2小时时刻'],right_on=['出发机场','计划起飞日期','实际起飞时刻'])\n"
   ]
  },
  {
   "cell_type": "code",
   "execution_count": 23,
   "metadata": {
    "collapsed": true
   },
   "outputs": [],
   "source": [
    "flight_data = flight_data.drop(['实际起飞时刻_y'],axis=1)\n",
    "flight_data = flight_data.rename(columns={'实际起飞时刻_x':'实际起飞时刻'})"
   ]
  },
  {
   "cell_type": "code",
   "execution_count": 24,
   "metadata": {
    "collapsed": true
   },
   "outputs": [],
   "source": [
    "上一时段实际进港延误航班数 = flight_data.groupby(['到达机场','计划起飞日期','实际到达时刻'], as_index=False)[\"是否延误3小时以上\"].agg({\"上一时段实际进港延误航班数\":\"sum\"})\n",
    "flight_data = pd.merge(flight_data,上一时段实际进港延误航班数,how='left',left_on=['到达机场','计划起飞日期','计划起飞前3小时时刻'],right_on=['到达机场','计划起飞日期','实际到达时刻'])\n"
   ]
  },
  {
   "cell_type": "code",
   "execution_count": 25,
   "metadata": {
    "collapsed": true
   },
   "outputs": [],
   "source": [
    "flight_data = flight_data.drop(['实际到达时刻_y'],axis=1)\n",
    "flight_data = flight_data.rename(columns={'实际到达时刻_x':'实际到达时刻'})"
   ]
  },
  {
   "cell_type": "code",
   "execution_count": 26,
   "metadata": {
    "collapsed": true
   },
   "outputs": [],
   "source": [
    "本时段实际进港延误航班数 = flight_data.groupby(['到达机场','计划起飞日期','实际到达时刻'], as_index=False)[\"是否延误3小时以上\"].agg({\"本时段实际进港延误航班数\":\"sum\"})\n",
    "flight_data = pd.merge(flight_data,本时段实际进港延误航班数,how='left',left_on=['到达机场','计划起飞日期','计划起飞前2小时时刻'],right_on=['到达机场','计划起飞日期','实际到达时刻'])\n"
   ]
  },
  {
   "cell_type": "code",
   "execution_count": 27,
   "metadata": {
    "collapsed": true
   },
   "outputs": [],
   "source": [
    "flight_data = flight_data.drop(['实际到达时刻_y'],axis=1)\n",
    "flight_data = flight_data.rename(columns={'实际到达时刻_x':'实际到达时刻'})"
   ]
  },
  {
   "cell_type": "code",
   "execution_count": 28,
   "metadata": {
    "collapsed": true
   },
   "outputs": [],
   "source": [
    "flight_data['上一时段实际进港航班数'] = flight_data['上一时段计划进港航班数'] - flight_data['上一时段实际进港延误航班数'] \n",
    "flight_data['上一时段实际离港航班数'] = flight_data['上一时段计划离港航班数'] - flight_data['上一时段实际离港延误航班数'] \n",
    "\n",
    "flight_data['本时段实际进港航班数'] = flight_data['本时段计划进港航班数'] - flight_data['本时段实际进港延误航班数'] \n",
    "flight_data['本时段实际离港航班数'] = flight_data['本时段计划离港航班数'] - flight_data['本时段实际离港延误航班数'] "
   ]
  },
  {
   "cell_type": "code",
   "execution_count": 29,
   "metadata": {
    "collapsed": true
   },
   "outputs": [],
   "source": [
    "flight_data['上一时段进港延误率'] = flight_data['上一时段实际进港延误航班数'] / flight_data['上一时段计划进港航班数']  \n",
    "flight_data['上一时段离港延误率'] = flight_data['上一时段实际离港延误航班数'] / flight_data['上一时段计划离港航班数']  \n",
    "\n",
    "\n",
    "flight_data['本时段进港延误率'] = flight_data['本时段实际进港延误航班数'] / flight_data['本时段计划进港航班数']  \n",
    "flight_data['本时段离港延误率'] = flight_data['本时段实际离港延误航班数'] / flight_data['本时段计划离港航班数']  "
   ]
  },
  {
   "cell_type": "code",
   "execution_count": 30,
   "metadata": {
    "collapsed": true
   },
   "outputs": [],
   "source": [
    "#起飞延误时间 = 实际起飞时间 - 计划起飞时间\n",
    "flight_data['起飞延误时间'] = flight_data['实际起飞时间1'] - flight_data['计划起飞时间1']\n",
    "flight_data['起飞延误时间'] = flight_data['起飞延误时间'].apply(lambda x : x.days * 86400 + x.seconds if not(pd.isnull(x)) else None)\n",
    "#转换为小时\n",
    "flight_data['起飞延误时间'] = flight_data['起飞延误时间'] / 3600\n",
    "\n",
    "\n",
    "\n",
    "#到达延误时间 = 实际到达时间 - 计划到达时间\n",
    "\n",
    "flight_data['到达延误时间'] = flight_data['实际到达时间1'] - flight_data['计划到达时间1']\n",
    "flight_data['到达延误时间'] = flight_data['到达延误时间'].apply(lambda x : x.days * 86400 + x.seconds if not(pd.isnull(x)) else None)\n",
    "#转换为小时\n",
    "flight_data['到达延误时间'] = flight_data['到达延误时间'] / 3600"
   ]
  },
  {
   "cell_type": "code",
   "execution_count": 31,
   "metadata": {
    "collapsed": true
   },
   "outputs": [],
   "source": [
    "上一时段离港延误时长 = flight_data.groupby(['出发机场','计划起飞日期','计划起飞时刻'], as_index=False)[\"起飞延误时间\"].agg({\"上一时段离港延误时长\":\"sum\"})\n",
    "flight_data = pd.merge(flight_data,上一时段离港延误时长,how='left',left_on=['出发机场','计划起飞日期','计划起飞前3小时时刻'],right_on=['出发机场','计划起飞日期','计划起飞时刻'])\n",
    "\n",
    "flight_data['上一时段离港平均延误时长'] = flight_data['上一时段离港延误时长'] / flight_data['上一时段实际离港延误航班数'] \n"
   ]
  },
  {
   "cell_type": "code",
   "execution_count": 32,
   "metadata": {},
   "outputs": [
    {
     "data": {
      "text/plain": [
       "Index(['出发机场', '到达机场', '航班编号', '计划起飞时间', '计划到达时间', '实际起飞时间', '实际到达时间', '飞机编号',\n",
       "       '航班是否取消', '是否延误3小时以上', '计划起飞时间1', '计划到达时间1', '计划起飞日期', '计划起飞时刻_x',\n",
       "       '航班月份', '计划到达日期', '计划到达时刻', '实际起飞时间1', '实际到达时间1', '实际起飞日期', '实际起飞时刻',\n",
       "       '实际月份', '实际到达日期', '实际到达时刻', '计划起飞前2小时时刻', '计划起飞前3小时时刻', '计划到达前2小时时刻',\n",
       "       '计划到达前3小时时刻', '上一时段计划离港航班数', '本时段计划离港航班数', '上一时段计划进港航班数', '本时段计划进港航班数',\n",
       "       '上一时段实际离港延误航班数', '本时段实际离港延误航班数', '上一时段实际进港延误航班数', '本时段实际进港延误航班数',\n",
       "       '上一时段实际进港航班数', '上一时段实际离港航班数', '本时段实际进港航班数', '本时段实际离港航班数', '上一时段进港延误率',\n",
       "       '上一时段离港延误率', '本时段进港延误率', '本时段离港延误率', '起飞延误时间', '到达延误时间', '计划起飞时刻_y',\n",
       "       '上一时段离港延误时长', '上一时段离港平均延误时长'],\n",
       "      dtype='object')"
      ]
     },
     "execution_count": 32,
     "metadata": {},
     "output_type": "execute_result"
    }
   ],
   "source": [
    "flight_data.columns"
   ]
  },
  {
   "cell_type": "code",
   "execution_count": 33,
   "metadata": {
    "collapsed": true
   },
   "outputs": [],
   "source": [
    "flight_data = flight_data.drop(['计划起飞时刻_y'],axis=1)\n",
    "flight_data = flight_data.rename(columns={'计划起飞时刻_x':'计划起飞时刻'})"
   ]
  },
  {
   "cell_type": "code",
   "execution_count": 34,
   "metadata": {
    "collapsed": true
   },
   "outputs": [],
   "source": [
    "上一时段进港延误时长 = flight_data.groupby(['到达机场','计划起飞日期','计划到达时刻'], as_index=False)[\"到达延误时间\"].agg({\"上一时段进港延误时长\":\"sum\"})\n",
    "flight_data = pd.merge(flight_data,上一时段进港延误时长,how='left',left_on=['到达机场','计划起飞日期','计划起飞前3小时时刻'],right_on=['到达机场','计划起飞日期','计划到达时刻'])\n"
   ]
  },
  {
   "cell_type": "code",
   "execution_count": 35,
   "metadata": {},
   "outputs": [
    {
     "data": {
      "text/plain": [
       "Index(['出发机场', '到达机场', '航班编号', '计划起飞时间', '计划到达时间', '实际起飞时间', '实际到达时间', '飞机编号',\n",
       "       '航班是否取消', '是否延误3小时以上', '计划起飞时间1', '计划到达时间1', '计划起飞日期', '计划起飞时刻', '航班月份',\n",
       "       '计划到达日期', '计划到达时刻_x', '实际起飞时间1', '实际到达时间1', '实际起飞日期', '实际起飞时刻', '实际月份',\n",
       "       '实际到达日期', '实际到达时刻', '计划起飞前2小时时刻', '计划起飞前3小时时刻', '计划到达前2小时时刻',\n",
       "       '计划到达前3小时时刻', '上一时段计划离港航班数', '本时段计划离港航班数', '上一时段计划进港航班数', '本时段计划进港航班数',\n",
       "       '上一时段实际离港延误航班数', '本时段实际离港延误航班数', '上一时段实际进港延误航班数', '本时段实际进港延误航班数',\n",
       "       '上一时段实际进港航班数', '上一时段实际离港航班数', '本时段实际进港航班数', '本时段实际离港航班数', '上一时段进港延误率',\n",
       "       '上一时段离港延误率', '本时段进港延误率', '本时段离港延误率', '起飞延误时间', '到达延误时间', '上一时段离港延误时长',\n",
       "       '上一时段离港平均延误时长', '计划到达时刻_y', '上一时段进港延误时长'],\n",
       "      dtype='object')"
      ]
     },
     "execution_count": 35,
     "metadata": {},
     "output_type": "execute_result"
    }
   ],
   "source": [
    "flight_data.columns"
   ]
  },
  {
   "cell_type": "code",
   "execution_count": 36,
   "metadata": {
    "collapsed": true
   },
   "outputs": [],
   "source": [
    "flight_data = flight_data.drop(['计划到达时刻_y'],axis=1)\n",
    "flight_data = flight_data.rename(columns={'计划到达时刻_x':'计划到达时刻'})"
   ]
  },
  {
   "cell_type": "code",
   "execution_count": 37,
   "metadata": {
    "collapsed": true
   },
   "outputs": [],
   "source": [
    "flight_data['上一时段进港平均延误时长'] = flight_data['上一时段进港延误时长'] / flight_data['上一时段实际进港延误航班数'] "
   ]
  },
  {
   "cell_type": "code",
   "execution_count": 38,
   "metadata": {
    "collapsed": true
   },
   "outputs": [],
   "source": [
    "本时段离港延误时长 = flight_data.groupby(['出发机场','计划起飞日期','计划起飞时刻'], as_index=False)[\"起飞延误时间\"].agg({\"本时段离港延误时长\":\"sum\"})\n",
    "flight_data = pd.merge(flight_data,本时段离港延误时长,how='left',left_on=['出发机场','计划起飞日期','计划起飞前2小时时刻'],right_on=['出发机场','计划起飞日期','计划起飞时刻'])\n",
    "flight_data['本时段离港平均延误时长'] = flight_data['本时段离港延误时长'] / flight_data['本时段实际离港延误航班数'] "
   ]
  },
  {
   "cell_type": "code",
   "execution_count": 39,
   "metadata": {},
   "outputs": [
    {
     "data": {
      "text/plain": [
       "Index(['出发机场', '到达机场', '航班编号', '计划起飞时间', '计划到达时间', '实际起飞时间', '实际到达时间', '飞机编号',\n",
       "       '航班是否取消', '是否延误3小时以上', '计划起飞时间1', '计划到达时间1', '计划起飞日期', '计划起飞时刻_x',\n",
       "       '航班月份', '计划到达日期', '计划到达时刻', '实际起飞时间1', '实际到达时间1', '实际起飞日期', '实际起飞时刻',\n",
       "       '实际月份', '实际到达日期', '实际到达时刻', '计划起飞前2小时时刻', '计划起飞前3小时时刻', '计划到达前2小时时刻',\n",
       "       '计划到达前3小时时刻', '上一时段计划离港航班数', '本时段计划离港航班数', '上一时段计划进港航班数', '本时段计划进港航班数',\n",
       "       '上一时段实际离港延误航班数', '本时段实际离港延误航班数', '上一时段实际进港延误航班数', '本时段实际进港延误航班数',\n",
       "       '上一时段实际进港航班数', '上一时段实际离港航班数', '本时段实际进港航班数', '本时段实际离港航班数', '上一时段进港延误率',\n",
       "       '上一时段离港延误率', '本时段进港延误率', '本时段离港延误率', '起飞延误时间', '到达延误时间', '上一时段离港延误时长',\n",
       "       '上一时段离港平均延误时长', '上一时段进港延误时长', '上一时段进港平均延误时长', '计划起飞时刻_y', '本时段离港延误时长',\n",
       "       '本时段离港平均延误时长'],\n",
       "      dtype='object')"
      ]
     },
     "execution_count": 39,
     "metadata": {},
     "output_type": "execute_result"
    }
   ],
   "source": [
    "flight_data.columns"
   ]
  },
  {
   "cell_type": "code",
   "execution_count": 40,
   "metadata": {
    "collapsed": true
   },
   "outputs": [],
   "source": [
    "flight_data = flight_data.drop(['计划起飞时刻_y'],axis=1)\n",
    "flight_data = flight_data.rename(columns={'计划起飞时刻_x':'计划起飞时刻'})"
   ]
  },
  {
   "cell_type": "code",
   "execution_count": 41,
   "metadata": {
    "collapsed": true
   },
   "outputs": [],
   "source": [
    "\n",
    "本时段进港延误时长 = flight_data.groupby(['到达机场','计划起飞日期','计划到达时刻'], as_index=False)[\"到达延误时间\"].agg({\"本时段进港延误时长\":\"sum\"})\n",
    "flight_data = pd.merge(flight_data,本时段进港延误时长,how='left',left_on=['到达机场','计划起飞日期','计划起飞前2小时时刻'],right_on=['到达机场','计划起飞日期','计划到达时刻'])\n",
    "\n"
   ]
  },
  {
   "cell_type": "code",
   "execution_count": 42,
   "metadata": {},
   "outputs": [
    {
     "data": {
      "text/plain": [
       "Index(['出发机场', '到达机场', '航班编号', '计划起飞时间', '计划到达时间', '实际起飞时间', '实际到达时间', '飞机编号',\n",
       "       '航班是否取消', '是否延误3小时以上', '计划起飞时间1', '计划到达时间1', '计划起飞日期', '计划起飞时刻', '航班月份',\n",
       "       '计划到达日期', '计划到达时刻_x', '实际起飞时间1', '实际到达时间1', '实际起飞日期', '实际起飞时刻', '实际月份',\n",
       "       '实际到达日期', '实际到达时刻', '计划起飞前2小时时刻', '计划起飞前3小时时刻', '计划到达前2小时时刻',\n",
       "       '计划到达前3小时时刻', '上一时段计划离港航班数', '本时段计划离港航班数', '上一时段计划进港航班数', '本时段计划进港航班数',\n",
       "       '上一时段实际离港延误航班数', '本时段实际离港延误航班数', '上一时段实际进港延误航班数', '本时段实际进港延误航班数',\n",
       "       '上一时段实际进港航班数', '上一时段实际离港航班数', '本时段实际进港航班数', '本时段实际离港航班数', '上一时段进港延误率',\n",
       "       '上一时段离港延误率', '本时段进港延误率', '本时段离港延误率', '起飞延误时间', '到达延误时间', '上一时段离港延误时长',\n",
       "       '上一时段离港平均延误时长', '上一时段进港延误时长', '上一时段进港平均延误时长', '本时段离港延误时长',\n",
       "       '本时段离港平均延误时长', '计划到达时刻_y', '本时段进港延误时长'],\n",
       "      dtype='object')"
      ]
     },
     "execution_count": 42,
     "metadata": {},
     "output_type": "execute_result"
    }
   ],
   "source": [
    "flight_data.columns"
   ]
  },
  {
   "cell_type": "code",
   "execution_count": 43,
   "metadata": {
    "collapsed": true
   },
   "outputs": [],
   "source": [
    "flight_data = flight_data.drop(['计划到达时刻_y'],axis=1)\n",
    "flight_data = flight_data.rename(columns={'计划到达时刻_x':'计划到达时刻'})"
   ]
  },
  {
   "cell_type": "code",
   "execution_count": 44,
   "metadata": {
    "collapsed": true
   },
   "outputs": [],
   "source": [
    "flight_data['本时段进港平均延误时长'] = flight_data['本时段进港延误时长'] / flight_data['本时段实际进港延误航班数'] "
   ]
  },
  {
   "cell_type": "code",
   "execution_count": 46,
   "metadata": {
    "collapsed": true
   },
   "outputs": [],
   "source": [
    "flight_data['上一时段进港平均延误时长'] = flight_data['上一时段进港延误时长'] / flight_data['上一时段实际进港航班数'] \n",
    "flight_data['上一时段离港平均延误时长'] = flight_data['上一时段离港延误时长'] / flight_data['上一时段实际离港航班数'] \n",
    "\n",
    "\n",
    "flight_data['本时段进港平均延误时长'] = flight_data['本时段进港延误时长'] / flight_data['本时段实际进港航班数'] \n",
    "flight_data['本时段离港平均延误时长'] = flight_data['本时段离港延误时长'] / flight_data['本时段实际离港航班数'] "
   ]
  },
  {
   "cell_type": "code",
   "execution_count": 47,
   "metadata": {
    "collapsed": true
   },
   "outputs": [],
   "source": [
    "上一时段实际离港延误时长 = flight_data.groupby(['出发机场','计划起飞日期','实际起飞时刻'], as_index=False)[\"起飞延误时间\"].agg({\"上一时段实际离港延误时长\":\"sum\"})\n",
    "flight_data = pd.merge(flight_data,上一时段实际离港延误时长,how='left',left_on=['出发机场','计划起飞日期','计划起飞前3小时时刻'],right_on=['出发机场','计划起飞日期','实际起飞时刻'])\n"
   ]
  },
  {
   "cell_type": "code",
   "execution_count": 49,
   "metadata": {
    "collapsed": true
   },
   "outputs": [],
   "source": [
    "flight_data = flight_data.drop(['实际起飞时刻_y'],axis=1)\n",
    "flight_data = flight_data.rename(columns={'实际起飞时刻_x':'实际起飞时刻'})"
   ]
  },
  {
   "cell_type": "code",
   "execution_count": 50,
   "metadata": {
    "collapsed": true
   },
   "outputs": [],
   "source": [
    "\n",
    "flight_data['上一时段实际离港平均延误时长'] = flight_data['上一时段实际离港延误时长'] / flight_data['上一时段实际离港延误航班数'] "
   ]
  },
  {
   "cell_type": "code",
   "execution_count": 53,
   "metadata": {
    "collapsed": true
   },
   "outputs": [],
   "source": [
    "上一时段实际进港延误时长 = flight_data.groupby(['到达机场','计划起飞日期','实际到达时刻'], as_index=False)[\"到达延误时间\"].agg({\"上一时段实际进港延误时长\":\"sum\"})\n",
    "flight_data = pd.merge(flight_data,上一时段实际进港延误时长,how='left',left_on=['到达机场','计划起飞日期','计划起飞前3小时时刻'],right_on=['到达机场','计划起飞日期','实际到达时刻'])\n",
    "flight_data['上一时段实际进港平均延误时长'] = flight_data['上一时段实际进港延误时长'] / flight_data['上一时段实际进港延误航班数'] "
   ]
  },
  {
   "cell_type": "code",
   "execution_count": 54,
   "metadata": {
    "collapsed": true
   },
   "outputs": [],
   "source": [
    "flight_data = flight_data.drop(['实际到达时刻_y'],axis=1)\n",
    "flight_data = flight_data.rename(columns={'实际到达时刻_x':'实际到达时刻'})"
   ]
  },
  {
   "cell_type": "code",
   "execution_count": 55,
   "metadata": {
    "collapsed": true
   },
   "outputs": [],
   "source": [
    "本时段实际离港延误时长 = flight_data.groupby(['出发机场','计划起飞日期','实际起飞时刻'], as_index=False)[\"起飞延误时间\"].agg({\"本时段实际离港延误时长\":\"sum\"})\n",
    "flight_data = pd.merge(flight_data,本时段实际离港延误时长,how='left',left_on=['出发机场','计划起飞日期','计划起飞前2小时时刻'],right_on=['出发机场','计划起飞日期','实际起飞时刻'])\n",
    "flight_data['本时段实际离港平均延误时长'] = flight_data['本时段实际离港延误时长'] / flight_data['本时段实际离港延误航班数'] "
   ]
  },
  {
   "cell_type": "code",
   "execution_count": 56,
   "metadata": {
    "collapsed": true
   },
   "outputs": [],
   "source": [
    "flight_data = flight_data.drop(['实际起飞时刻_y'],axis=1)\n",
    "flight_data = flight_data.rename(columns={'实际起飞时刻_x':'实际起飞时刻'})"
   ]
  },
  {
   "cell_type": "code",
   "execution_count": 57,
   "metadata": {
    "collapsed": true
   },
   "outputs": [],
   "source": [
    "本时段实际进港延误时长 = flight_data.groupby(['到达机场','计划起飞日期','实际到达时刻'], as_index=False)[\"到达延误时间\"].agg({\"本时段实际进港延误时长\":\"sum\"})\n",
    "flight_data = pd.merge(flight_data,本时段实际进港延误时长,how='left',left_on=['到达机场','计划起飞日期','计划起飞前2小时时刻'],right_on=['到达机场','计划起飞日期','实际到达时刻'])\n",
    "flight_data['本时段实际进港平均延误时长'] = flight_data['本时段实际进港延误时长'] / flight_data['本时段实际进港延误航班数'] "
   ]
  },
  {
   "cell_type": "code",
   "execution_count": 58,
   "metadata": {
    "collapsed": true
   },
   "outputs": [],
   "source": [
    "flight_data = flight_data.drop(['实际到达时刻_y'],axis=1)\n",
    "flight_data = flight_data.rename(columns={'实际到达时刻_x':'实际到达时刻'})"
   ]
  },
  {
   "cell_type": "code",
   "execution_count": 59,
   "metadata": {
    "collapsed": true
   },
   "outputs": [],
   "source": [
    "flight_datanew = flight_data.drop([ '计划起飞时间', '计划到达时间', '实际起飞时间', '实际到达时间', '飞机编号',\n",
    "       '航班是否取消', '是否延误3小时以上', '计划起飞时间1', '计划到达时间1', '计划起飞时刻', '航班月份',\n",
    "       '计划到达日期', '计划到达时刻', '实际起飞时间1', '实际到达时间1', '实际起飞日期', '实际起飞时刻', '实际月份',\n",
    "       '实际到达日期', '实际到达时刻'],axis=1)"
   ]
  },
  {
   "cell_type": "code",
   "execution_count": 60,
   "metadata": {
    "collapsed": true
   },
   "outputs": [],
   "source": [
    "fileName = open(r'D:/Desktop/DataTotal.csv')\n",
    "total_data = pd.read_csv(fileName)"
   ]
  },
  {
   "cell_type": "markdown",
   "metadata": {},
   "source": [
    "# 初步特征维度  --> TotalFeature.csv"
   ]
  },
  {
   "cell_type": "code",
   "execution_count": null,
   "metadata": {
    "collapsed": true
   },
   "outputs": [],
   "source": [
    "Total = pd.merge(total_data, flight_datanew, how = 'inner',on=['航班编号','计划起飞日期'])\n",
    "dataset = Total"
   ]
  },
  {
   "cell_type": "markdown",
   "metadata": {},
   "source": [
    "# 模型训练维度  --> origin_feature.csv（83维度）"
   ]
  },
  {
   "cell_type": "code",
   "execution_count": null,
   "metadata": {},
   "outputs": [],
   "source": [
    "\n",
    "fileName = open(r'/Users/tuyu/000000毕业设计/Flight_Delay/Train_Feature/TotalFeature.csv')\n",
    "dataset = pd.read_csv(fileName)"
   ]
  },
  {
   "cell_type": "code",
   "execution_count": null,
   "metadata": {
    "collapsed": true
   },
   "outputs": [],
   "source": [
    "dataset['航班季节F1'] = dataset['航班季节'].apply(lambda x : 1 if x == '冬'  else 0 )\n",
    "dataset['航班季节F2'] = dataset['航班季节'].apply(lambda x : 1 if x == '秋'  else 0 )   \n",
    "dataset['航班季节F3'] = dataset['航班季节'].apply(lambda x : 1 if x == '夏'  else 0 )\n",
    "dataset['航班季节F4'] = dataset['航班季节'].apply(lambda x : 1 if x == '春'  else 0 )"
   ]
  },
  {
   "cell_type": "code",
   "execution_count": null,
   "metadata": {
    "collapsed": true
   },
   "outputs": [],
   "source": [
    "dataset['计划起飞星期日F1'] = dataset['计划起飞星期日'].apply(lambda x : 1 if x == 7 else 0)\n",
    "dataset['计划起飞星期日F2'] = dataset['计划起飞星期日'].apply(lambda x : 1 if x == 6 else 0)\n",
    "dataset['计划起飞星期日F3'] = dataset['计划起飞星期日'].apply(lambda x : 1 if x == 5 else 0)\n",
    "dataset['计划起飞星期日F4'] = dataset['计划起飞星期日'].apply(lambda x : 1 if x == 4 else 0)\n",
    "dataset['计划起飞星期日F5'] = dataset['计划起飞星期日'].apply(lambda x : 1 if x == 3 else 0)\n",
    "dataset['计划起飞星期日F6'] = dataset['计划起飞星期日'].apply(lambda x : 1 if x == 2 else 0)\n",
    "dataset['计划起飞星期日F7'] = dataset['计划起飞星期日'].apply(lambda x : 1 if x == 1 else 0)"
   ]
  },
  {
   "cell_type": "code",
   "execution_count": null,
   "metadata": {
    "collapsed": true
   },
   "outputs": [],
   "source": [
    "dataset['计划到达星期日F1'] = dataset['计划到达星期日'].apply(lambda x : 1 if x == 7 else 0)\n",
    "dataset['计划到达星期日F2'] = dataset['计划到达星期日'].apply(lambda x : 1 if x == 6 else 0)\n",
    "dataset['计划到达星期日F3'] = dataset['计划到达星期日'].apply(lambda x : 1 if x == 5 else 0)\n",
    "dataset['计划到达星期日F4'] = dataset['计划到达星期日'].apply(lambda x : 1 if x == 4 else 0)\n",
    "dataset['计划到达星期日F5'] = dataset['计划到达星期日'].apply(lambda x : 1 if x == 3 else 0)\n",
    "dataset['计划到达星期日F6'] = dataset['计划到达星期日'].apply(lambda x : 1 if x == 2 else 0)\n",
    "dataset['计划到达星期日F7'] = dataset['计划到达星期日'].apply(lambda x : 1 if x == 1 else 0)"
   ]
  },
  {
   "cell_type": "code",
   "execution_count": null,
   "metadata": {
    "collapsed": true
   },
   "outputs": [],
   "source": [
    "origin_feature = dataset[[ '计划起飞时间',\n",
    " '计划到达时间',\n",
    " '计划飞行时间',\n",
    " '计划起飞时刻',\n",
    " '航班月份',\n",
    " '计划到达时刻',\n",
    " '是否为去程航班',\n",
    " '是否是补班航班',\n",
    " '是否为国内航班',\n",
    " '前序延误',\n",
    " '起飞间隔',\n",
    " '平均延误时间',\n",
    " '延误时间标准差',\n",
    " '最大延误时间',\n",
    " '延误时间中位数',\n",
    " '到达特情',\n",
    " '出发特情',\n",
    " '是否延误3小时以上',\n",
    " '出发机场风力等级评分',\n",
    " '到达机场风力等级评分',\n",
    " '出发机场aqi等级评分',\n",
    " '到达机场aqi等级评分',\n",
    " '出发机场天气得分',\n",
    " '到达机场天气得分',\n",
    " '出发机场起飞时刻温度得分',\n",
    " '到达机场起飞时刻温度得分',\n",
    " '计划起飞日期是否为工作日',\n",
    " '计划到达日期是否为工作日',\n",
    " '计划起飞前2小时时刻',\n",
    " '计划起飞前3小时时刻',\n",
    " '计划到达前2小时时刻',\n",
    " '计划到达前3小时时刻',\n",
    " '上一时段计划离港航班数',\n",
    " '本时段计划离港航班数',\n",
    " '上一时段计划进港航班数',\n",
    " '本时段计划进港航班数',\n",
    " '上一时段实际离港延误航班数',\n",
    " '本时段实际离港延误航班数',\n",
    " '上一时段实际进港延误航班数',\n",
    " '本时段实际进港延误航班数',\n",
    " '上一时段实际进港航班数',\n",
    " '上一时段实际离港航班数',\n",
    " '本时段实际进港航班数',\n",
    " '本时段实际离港航班数',\n",
    " '上一时段进港延误率',\n",
    " '上一时段离港延误率',\n",
    " '本时段进港延误率',\n",
    " '本时段离港延误率',\n",
    " '上一时段离港延误时长',\n",
    " '上一时段离港平均延误时长',\n",
    " '上一时段进港延误时长',\n",
    " '上一时段进港平均延误时长',\n",
    " '本时段离港延误时长',\n",
    " '本时段离港平均延误时长',\n",
    " '本时段进港延误时长',\n",
    " '本时段进港平均延误时长',\n",
    " '上一时段实际离港延误时长',\n",
    " '上一时段实际离港平均延误时长',\n",
    " '上一时段实际进港延误时长',\n",
    " '上一时段实际进港平均延误时长',\n",
    " '本时段实际离港延误时长',\n",
    " '本时段实际离港平均延误时长',\n",
    " '本时段实际进港延误时长',\n",
    " '本时段实际进港平均延误时长',\n",
    " '航班季节F1',\n",
    " '航班季节F2',\n",
    " '航班季节F3',\n",
    " '航班季节F4',\n",
    " '计划起飞星期日F1',\n",
    " '计划起飞星期日F2',\n",
    " '计划起飞星期日F3',\n",
    " '计划起飞星期日F4',\n",
    " '计划起飞星期日F5',\n",
    " '计划起飞星期日F6',\n",
    " '计划起飞星期日F7',\n",
    " '计划到达星期日F1',\n",
    " '计划到达星期日F2',\n",
    " '计划到达星期日F3',\n",
    " '计划到达星期日F4',\n",
    " '计划到达星期日F5',\n",
    " '计划到达星期日F6',\n",
    " '计划到达星期日F7']]"
   ]
  },
  {
   "cell_type": "code",
   "execution_count": null,
   "metadata": {
    "collapsed": true
   },
   "outputs": [],
   "source": [
    "origin_feature['计划起飞时间'] = origin_feature['计划起飞时间'].apply(lambda x : x / 86400 if not(pd.isnull(x)) else None )\n",
    "origin_feature['计划到达时间'] = origin_feature['计划到达时间'].apply(lambda x : x / 86400 if not(pd.isnull(x)) else None )"
   ]
  },
  {
   "cell_type": "code",
   "execution_count": null,
   "metadata": {
    "collapsed": true
   },
   "outputs": [],
   "source": [
    "origin_feature['标签'] = origin_feature['是否延误3小时以上']\n",
    "del(origin_feature['是否延误3小时以上'])"
   ]
  },
  {
   "cell_type": "code",
   "execution_count": null,
   "metadata": {
    "collapsed": true
   },
   "outputs": [],
   "source": [
    "origin_feature.to_csv(r\"D:/Desktop/origin_feature.csv\", index=None, encoding=\"gb2312\")"
   ]
  },
  {
   "cell_type": "code",
   "execution_count": null,
   "metadata": {
    "collapsed": true
   },
   "outputs": [],
   "source": []
  },
  {
   "cell_type": "code",
   "execution_count": null,
   "metadata": {
    "collapsed": true
   },
   "outputs": [],
   "source": []
  },
  {
   "cell_type": "code",
   "execution_count": null,
   "metadata": {
    "collapsed": true
   },
   "outputs": [],
   "source": []
  }
 ],
 "metadata": {
  "kernelspec": {
   "display_name": "Python 3",
   "language": "python",
   "name": "python3"
  },
  "language_info": {
   "codemirror_mode": {
    "name": "ipython",
    "version": 3
   },
   "file_extension": ".py",
   "mimetype": "text/x-python",
   "name": "python",
   "nbconvert_exporter": "python",
   "pygments_lexer": "ipython3",
   "version": "3.6.5"
  }
 },
 "nbformat": 4,
 "nbformat_minor": 2
}
